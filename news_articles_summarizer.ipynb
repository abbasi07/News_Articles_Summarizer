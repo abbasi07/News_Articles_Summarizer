{
 "cells": [
  {
   "cell_type": "markdown",
   "metadata": {},
   "source": [
    "# Langchain News Articles Summarizer "
   ]
  },
  {
   "cell_type": "code",
   "execution_count": 1,
   "metadata": {},
   "outputs": [],
   "source": [
    "# import OPENAI API Key\n",
    "import os\n",
    "from dotenv import load_dotenv\n",
    "\n",
    "load_dotenv()\n",
    "OPENAI_API_KEY = os.getenv(\"OPENAI_API_KEY\")"
   ]
  },
  {
   "cell_type": "markdown",
   "metadata": {},
   "source": [
    "This project will implement a news article summarizer using langchain. We will provide the link to an article and the summarizer will use OpenAI GPT model to generate a bulleted list summary of the article. \n",
    "You need follwoing libraries for this project: \n",
    "\n",
    "* pip install langchain==0.1.4 deeplake openai==1.10.0 tiktoken\n",
    "\n",
    "* pip install -q newspaper3k python-dotenv"
   ]
  },
  {
   "cell_type": "markdown",
   "metadata": {},
   "source": [
    "# 1. Fetch News Article"
   ]
  },
  {
   "cell_type": "code",
   "execution_count": 2,
   "metadata": {},
   "outputs": [
    {
     "name": "stdout",
     "output_type": "stream",
     "text": [
      "Title: The Dar story continues\n",
      "Text: WITH his appointment as deputy prime minister, Ishaq Dar’s shadow has come to loom larger than ever over the present dispensation. He now virtually shares power with Prime Minister Shehbaz Sharif. Being a part of the Sharif family and Nawaz Sharif’s closest confidant, his ascension has not come as a surprise. The wily politician has proved wrong all those who had described his dethroning as economic czar as the end of the road for him. He was given the portfolio of foreign minister, which hardly interests him.\n",
      "\n",
      "Now Dar has made a great comeback, grabbing the second most important position in the cabinet. It is apparent that he has been appointed to this powerful position by Nawaz Sharif, who now seems to be reasserting his control over the party. The former three-time prime minister is expected to take over the presidentship of the PML-N soon. Dar will be more of a proxy for his former boss, taking instructions from Raiwind.\n",
      "\n",
      "This is an interesting twist to the fissures within the ruling PML-N. While there has not been any plausible explanation for the creation of the new post, some PML-N leaders have been quoted as saying that the decision was taken even before the formation of the PML-N government. Whatever the facts may be, it is certainly not a happy situation for the prime minister, who is heading a shaky coalition government under a hybrid arrangement. The expected changes in the ruling party’s hierarchy and the emerging dichotomy can seriously undermine his authority.\n",
      "\n",
      "In his new position, Dar will not only continue to be the country’s top diplomat but will also be deeply involved in overseeing economic and financial policies. He may be returning as super economic czar. That also raises questions about the sustainability of the Shehbaz Sharif government’s financial reform agenda and the impending negotiations with the IMF on a new lending agreement. Dar’s ascendency is particularly worrisome given his disastrous policies as finance minister in the past. These policies greatly contributed to the worsening state of the economy. This is not a good omen for the crisis-ridden nation.\n",
      "\n",
      "Dar’s ascendency is particularly worrisome given his disastrous policies as finance minister.\n",
      "\n",
      "Indeed, Dar’s appointment as deputy prime minister has not drawn any criticism from the coalition partners, but it is a fact that the allied parties had reportedly opposed his return as finance minister. There may not be any provision for deputy prime minister in the Constitution, but there have been instances in the past of such appointment. However, the position has been largely ceremonial.\n",
      "\n",
      "Dar’s appointment, however, signifies much more in the prevailing political situation. Curiously, the notification was issued when the prime minister was visiting Saudi Arabia. One wonders what the emergency was and what necessitated the creation of this position. While it is not clear whether the establishment was also on board, the appointment of the deputy prime minister is not likely to alter the existing power matrix within the hybrid system. In fact, the increasing divide within the ruling PML-N will likely tilt the balance of power towards the establishment.\n",
      "\n",
      "The Dar story doesn’t end here. It gets murkier. His elevation to deputy prime minister has, perhaps, brought him closer to his long-standing ambition to get to the top.\n",
      "\n",
      "It reminds me of my conversation with former army chief Gen Qamar Bajwa back in October 2021. According to him, after the ouster of Nawaz Sharif government in 2017, some PML-N contenders for the top post approached him seeking his support. Among them was Ishaq Dar who was then finance minister. “What do you think about me as prime minister?” the general quoted Dar as asking him. The general told him that it was for the PML-N to decide and that being a senator didn’t qualify him for the post anyway. “But General, you can do anything,” Gen Bajwa quoted Dar as saying. If correct, it says a lot about Dar’s ambition.\n",
      "\n",
      "His elevation to the position of deputy prime minister is likely to increase the distortions in an already twisted dispensation. The newly appointed deputy prime minister will now be wearing more than one hat. Beside being foreign minister, he is also heading some government committees, including the one on privatisation.\n",
      "\n",
      "One wonders what the rationale was for the foreign minister — a highly demanding, full-time job — being assigned various other political responsibilities. His appointment as foreign minister, with no prior experience of diplomacy, too, had raised eyebrows. A man for all seasons, it seems, Dar has hardly been seen at the Foreign Office since taking the job some two months ago. The country needs a seasoned hand to deal with multiple foreign policy challenges in the fast-moving realm of regional geopolitics and not a part-time novice.\n",
      "\n",
      "Evidently, the power tussle within the Sharif family, which is also reflected in the open polemics among party leaders, has further weakened the government, and has made its legitimacy questionable. The government needs to focus on the multiple challenges the country faces rather than the power struggle within. Dar’s appointment shows the increasing concentration of power within the Sharif family not only at the centre but also in Punjab.\n",
      "\n",
      "Meanwhile, according to media reports, the PML-N’s general council, which is meeting in the second week of May, is expected to elect Nawaz Sharif as party president. The former prime minister had relinquished the post after his conviction by the court in 2017. The court also barred him from holding any party position. Subsequently, the party elected Shehbaz Sharif as new president.\n",
      "\n",
      "The reversal of his conviction by the court has lifted the ban. Nawaz Sharif was initially reluctant to return as party president. But now, he has reportedly agreed to take back the position. With his daughter Maryam the chief minister of Punjab and a senior vice president of the party, Nawaz Sharif will have total control over decision-making.\n",
      "\n",
      "Many in the ruling party now want him to return as prime minister, replacing his younger brother. It might not happen at this point, but one cannot be sure about the ever-changing direction of the political winds.\n",
      "\n",
      "The writer is an author and journalist.\n",
      "\n",
      "zhussain100@yahoo.com\n",
      "\n",
      "X: @hidhussain\n",
      "\n",
      "Published in Dawn, May 1st, 2024\n"
     ]
    }
   ],
   "source": [
    "# fetch news article\n",
    "import requests\n",
    "from newspaper import Article\n",
    "\n",
    "headers = {\n",
    "    'User-Agent': 'Mozilla/5.0 (Windows NT 10.0; Win64; x64) AppleWebKit/537.36 (KHTML, like Gecko) Chrome/124.0.0.0 Safari/537.36'\n",
    "}\n",
    "\n",
    "article_url = \"https://www.dawn.com/news/1830748\"\n",
    "\n",
    "session = requests.Session()\n",
    "\n",
    "try:\n",
    "    response = session.get(article_url, headers=headers, timeout=10)\n",
    "\n",
    "    if response.status_code==200:\n",
    "        article = Article(article_url)\n",
    "        article.download()\n",
    "        article.parse()\n",
    "\n",
    "        print(f\"Title: {article.title}\")\n",
    "        print(f\"Text: {article.text}\")\n",
    "    else:\n",
    "        print(f\"Failed to fetch the article at {article_url}\")\n",
    "except Exception as e:\n",
    "    print(f\"Error ocuured while fetching article at {article_url}\")\n",
    "\n"
   ]
  },
  {
   "cell_type": "markdown",
   "metadata": {},
   "source": [
    "# 2. Develop Few Shot Prompting for better results"
   ]
  },
  {
   "cell_type": "code",
   "execution_count": 3,
   "metadata": {},
   "outputs": [],
   "source": [
    "from langchain.schema import (\n",
    "    HumanMessage\n",
    ")\n",
    "\n",
    "article_title = article.title\n",
    "article_text = article.text\n",
    "\n",
    "template = \"\"\"\n",
    "As an advanced AI, you have been tasked to summarize online news articles into bulleted points.\n",
    "Here are a few examples of how you have done in the past:\n",
    "\n",
    "Example 1:\n",
    "Original Article: 'The Effects of Climate Change\n",
    "Summary:\n",
    "- Climate change is causing a rise in global temperatures.\n",
    "- This leads to melting ice caps and rising sea levels.\n",
    "- Resulting in more frequent and severe weather conditions.\n",
    "\n",
    "Example 2:\n",
    "Original Article: 'The Evolution of Artificial Intelligence\n",
    "Summary:\n",
    "- Artificial Intelligence (AI) has developed significantly over the past decade.\n",
    "- AI is now used in multiple fields such as healthcare, finance, and transportation.\n",
    "- The future of AI is promising but requires careful regulation.\n",
    "\n",
    "\n",
    "Now, here is the article you need to summarize:\n",
    "\n",
    "=======================\n",
    "Title: {article_title}\n",
    "{article_text}\n",
    "=======================\n",
    "\n",
    "Please provide a summarized version of the article in a bulleted list format. \n",
    "\"\"\"\n",
    "\n",
    "prompt = template.format(article_title=article.title, article_text=article.text)\n",
    "messages = [HumanMessage(content=prompt)]"
   ]
  },
  {
   "cell_type": "markdown",
   "metadata": {},
   "source": [
    "# 3. Get Summary from LLM"
   ]
  },
  {
   "cell_type": "code",
   "execution_count": 5,
   "metadata": {},
   "outputs": [
    {
     "name": "stdout",
     "output_type": "stream",
     "text": [
      "Summary:\n",
      "- Ishaq Dar has been appointed as deputy prime minister, sharing power with Prime Minister Shehbaz Sharif.\n",
      "- Dar's appointment signifies Nawaz Sharif's reassertion of control over the party.\n",
      "- Dar's past disastrous policies as finance minister raise concerns about the economy.\n",
      "- The power struggle within the Sharif family weakens the government's legitimacy.\n",
      "- Nawaz Sharif is expected to be elected as party president, regaining control over decision-making.\n",
      "- There are speculations about Nawaz Sharif potentially returning as prime minister in the future.\n"
     ]
    }
   ],
   "source": [
    "from langchain.chat_models import ChatOpenAI\n",
    "\n",
    "chat = ChatOpenAI(model_name=\"gpt-3.5-turbo\", temperature=0)\n",
    "\n",
    "summary=chat(messages)\n",
    "print(summary.content)"
   ]
  }
 ],
 "metadata": {
  "kernelspec": {
   "display_name": "LC_env",
   "language": "python",
   "name": "python3"
  },
  "language_info": {
   "codemirror_mode": {
    "name": "ipython",
    "version": 3
   },
   "file_extension": ".py",
   "mimetype": "text/x-python",
   "name": "python",
   "nbconvert_exporter": "python",
   "pygments_lexer": "ipython3",
   "version": "3.12.3"
  }
 },
 "nbformat": 4,
 "nbformat_minor": 2
}
